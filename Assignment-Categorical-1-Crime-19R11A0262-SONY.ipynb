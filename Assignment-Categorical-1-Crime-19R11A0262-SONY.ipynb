{
 "cells": [
  {
   "cell_type": "code",
   "execution_count": 1,
   "metadata": {},
   "outputs": [],
   "source": [
    "import numpy as np\n",
    "import pandas as pd"
   ]
  },
  {
   "cell_type": "code",
   "execution_count": 2,
   "metadata": {},
   "outputs": [],
   "source": [
    "d=pd.read_csv(r\"crime_2015.csv\")"
   ]
  },
  {
   "cell_type": "code",
   "execution_count": 3,
   "metadata": {},
   "outputs": [
    {
     "data": {
      "text/plain": [
       "msa                  0\n",
       "violentcrime         1\n",
       "murder               0\n",
       "rape                 0\n",
       "robbery              0\n",
       "aggravatedassault    1\n",
       "propertycrime        6\n",
       "burglary             4\n",
       "theft                3\n",
       "motorvehicletheft    0\n",
       "state                0\n",
       "dtype: int64"
      ]
     },
     "execution_count": 3,
     "metadata": {},
     "output_type": "execute_result"
    }
   ],
   "source": [
    "d.isnull().sum()"
   ]
  },
  {
   "cell_type": "code",
   "execution_count": 4,
   "metadata": {},
   "outputs": [],
   "source": [
    "d[\"violentcrime\"].fillna(d[\"violentcrime\"].mean(),inplace = True)\n",
    "d[\"aggravatedassault\"].fillna(d[\"aggravatedassault\"].mean(),inplace = True)\n",
    "d[\"propertycrime\"].fillna(d[\"propertycrime\"].mean(),inplace = True)\n",
    "d[\"burglary\"].fillna(d[\"burglary\"].mean(),inplace = True)\n",
    "d[\"theft\"].fillna(d[\"theft\"].mean(),inplace = True)"
   ]
  },
  {
   "cell_type": "code",
   "execution_count": 5,
   "metadata": {},
   "outputs": [],
   "source": [
    "x = d.iloc[:,1:10].values\n",
    "y = d.iloc[:,10:11].values\n"
   ]
  },
  {
   "cell_type": "code",
   "execution_count": 6,
   "metadata": {},
   "outputs": [
    {
     "data": {
      "text/plain": [
       "array([['TX'],\n",
       "       ['OH'],\n",
       "       ['GA'],\n",
       "       ['OR'],\n",
       "       ['NM'],\n",
       "       ['LA'],\n",
       "       ['PA'],\n",
       "       ['TX'],\n",
       "       ['IA'],\n",
       "       ['AK'],\n",
       "       ['MI'],\n",
       "       ['AL'],\n",
       "       ['WI'],\n",
       "       ['NC'],\n",
       "       ['GA'],\n",
       "       ['GA'],\n",
       "       ['NJ'],\n",
       "       ['TX'],\n",
       "       ['CA'],\n",
       "       ['MD'],\n",
       "       ['ME'],\n",
       "       ['MA'],\n",
       "       ['LA'],\n",
       "       ['MI'],\n",
       "       ['MI'],\n",
       "       ['TX'],\n",
       "       ['WV'],\n",
       "       ['WA'],\n",
       "       ['OR'],\n",
       "       ['MT'],\n",
       "       ['NY'],\n",
       "       ['AL'],\n",
       "       ['ND'],\n",
       "       ['IL'],\n",
       "       ['IN'],\n",
       "       ['PA'],\n",
       "       ['ID'],\n",
       "       ['CO'],\n",
       "       ['KY'],\n",
       "       ['WA'],\n",
       "       ['CT'],\n",
       "       ['TX'],\n",
       "       ['GA'],\n",
       "       ['NY'],\n",
       "       ['NC'],\n",
       "       ['VT'],\n",
       "       ['MD'],\n",
       "       ['OH'],\n",
       "       ['FL'],\n",
       "       ['MO'],\n",
       "       ['NV'],\n",
       "       ['WY'],\n",
       "       ['IA'],\n",
       "       ['PA'],\n",
       "       ['WV'],\n",
       "       ['SC'],\n",
       "       ['VA'],\n",
       "       ['TN'],\n",
       "       ['WY'],\n",
       "       ['IL'],\n",
       "       ['IL'],\n",
       "       ['IL'],\n",
       "       ['IN'],\n",
       "       ['IL'],\n",
       "       ['CA'],\n",
       "       ['OH'],\n",
       "       ['TN'],\n",
       "       ['TN'],\n",
       "       ['ID'],\n",
       "       ['TX'],\n",
       "       ['CO'],\n",
       "       ['MO'],\n",
       "       ['SC'],\n",
       "       ['GA'],\n",
       "       ['IN'],\n",
       "       ['OH'],\n",
       "       ['TX'],\n",
       "       ['OR'],\n",
       "       ['FL'],\n",
       "       ['MD'],\n",
       "       ['TX'],\n",
       "       ['TX'],\n",
       "       ['TX'],\n",
       "       ['GA'],\n",
       "       ['IL'],\n",
       "       ['AL'],\n",
       "       ['IA'],\n",
       "       ['OH'],\n",
       "       ['AL'],\n",
       "       ['IL'],\n",
       "       ['FL'],\n",
       "       ['CO'],\n",
       "       ['IA'],\n",
       "       ['MI'],\n",
       "       ['MI'],\n",
       "       ['MI'],\n",
       "       ['AL'],\n",
       "       ['DE'],\n",
       "       ['IA'],\n",
       "       ['MN'],\n",
       "       ['PA'],\n",
       "       ['WI'],\n",
       "       ['CA'],\n",
       "       ['KY'],\n",
       "       ['IN'],\n",
       "       ['NY'],\n",
       "       ['TX'],\n",
       "       ['OK'],\n",
       "       ['PA'],\n",
       "       ['OR'],\n",
       "       ['IN'],\n",
       "       ['AK'],\n",
       "       ['ND'],\n",
       "       ['NM'],\n",
       "       ['AZ'],\n",
       "       ['MI'],\n",
       "       ['AL'],\n",
       "       ['WI'],\n",
       "       ['CO'],\n",
       "       ['AR'],\n",
       "       ['IN'],\n",
       "       ['CA'],\n",
       "       ['AL'],\n",
       "       ['FL'],\n",
       "       ['GA'],\n",
       "       ['PA'],\n",
       "       ['NY'],\n",
       "       ['NC'],\n",
       "       ['ND'],\n",
       "       ['NE'],\n",
       "       ['CO'],\n",
       "       ['MI'],\n",
       "       ['OR'],\n",
       "       ['MT'],\n",
       "       ['CO'],\n",
       "       ['WI'],\n",
       "       ['NC'],\n",
       "       ['NC'],\n",
       "       ['MS'],\n",
       "       ['MD'],\n",
       "       ['LA'],\n",
       "       ['CA'],\n",
       "       ['VA'],\n",
       "       ['CT'],\n",
       "       ['MS'],\n",
       "       ['SC'],\n",
       "       ['GA'],\n",
       "       ['FL'],\n",
       "       ['LA'],\n",
       "       ['TX'],\n",
       "       ['AL'],\n",
       "       ['ID'],\n",
       "       ['IN'],\n",
       "       ['IA'],\n",
       "       ['MI'],\n",
       "       ['MS'],\n",
       "       ['TN'],\n",
       "       ['FL'],\n",
       "       ['NC'],\n",
       "       ['WI'],\n",
       "       ['MO'],\n",
       "       ['TN'],\n",
       "       ['PA'],\n",
       "       ['AR'],\n",
       "       ['MO'],\n",
       "       ['HI'],\n",
       "       ['MI'],\n",
       "       ['MO'],\n",
       "       ['WA'],\n",
       "       ['TX'],\n",
       "       ['TN'],\n",
       "       ['NY'],\n",
       "       ['TN'],\n",
       "       ['IN'],\n",
       "       ['WI'],\n",
       "       ['LA'],\n",
       "       ['IN'],\n",
       "       ['LA'],\n",
       "       ['AZ'],\n",
       "       ['FL'],\n",
       "       ['PA'],\n",
       "       ['MI'],\n",
       "       ['TX'],\n",
       "       ['NM'],\n",
       "       ['NV'],\n",
       "       ['OK'],\n",
       "       ['PA'],\n",
       "       ['ID'],\n",
       "       ['ME'],\n",
       "       ['KY'],\n",
       "       ['OH'],\n",
       "       ['NE'],\n",
       "       ['AR'],\n",
       "       ['UT'],\n",
       "       ['TX'],\n",
       "       ['WA'],\n",
       "       ['CA'],\n",
       "       ['CA'],\n",
       "       ['CA'],\n",
       "       ['KY'],\n",
       "       ['TX'],\n",
       "       ['VA'],\n",
       "       ['GA'],\n",
       "       ['CA'],\n",
       "       ['WI'],\n",
       "       ['NH'],\n",
       "       ['KS'],\n",
       "       ['MN'],\n",
       "       ['OH'],\n",
       "       ['TX'],\n",
       "       ['OR'],\n",
       "       ['TN'],\n",
       "       ['CA'],\n",
       "       ['FL'],\n",
       "       ['FL'],\n",
       "       ['FL'],\n",
       "       ['FL'],\n",
       "       ['IN'],\n",
       "       ['MI'],\n",
       "       ['TX'],\n",
       "       ['WI'],\n",
       "       ['MN'],\n",
       "       ['MT'],\n",
       "       ['AL'],\n",
       "       ['CA'],\n",
       "       ['LA'],\n",
       "       ['MI'],\n",
       "       ['AL'],\n",
       "       ['WV'],\n",
       "       ['TN'],\n",
       "       ['WA'],\n",
       "       ['MI'],\n",
       "       ['SC'],\n",
       "       ['CA'],\n",
       "       ['FL'],\n",
       "       ['TN'],\n",
       "       ['NC'],\n",
       "       ['LA'],\n",
       "       ['MI'],\n",
       "       ['FL'],\n",
       "       ['CT'],\n",
       "       ['FL'],\n",
       "       ['NJ'],\n",
       "       ['TX'],\n",
       "       ['UT'],\n",
       "       ['OK'],\n",
       "       ['WA'],\n",
       "       ['NE'],\n",
       "       ['FL'],\n",
       "       ['WI'],\n",
       "       ['KY'],\n",
       "       ['CA'],\n",
       "       ['FL'],\n",
       "       ['FL'],\n",
       "       ['WV'],\n",
       "       ['FL'],\n",
       "       ['IL'],\n",
       "       ['PA'],\n",
       "       ['NJ'],\n",
       "       ['PA'],\n",
       "       ['PA'],\n",
       "       ['DE'],\n",
       "       ['AZ'],\n",
       "       ['AR'],\n",
       "       ['PA'],\n",
       "       ['MA'],\n",
       "       ['ID'],\n",
       "       ['ME'],\n",
       "       ['FL'],\n",
       "       ['AZ'],\n",
       "       ['RI'],\n",
       "       ['UT'],\n",
       "       ['CO'],\n",
       "       ['FL'],\n",
       "       ['WI'],\n",
       "       ['SD'],\n",
       "       ['PA'],\n",
       "       ['CA'],\n",
       "       ['NV'],\n",
       "       ['VA'],\n",
       "       ['CA'],\n",
       "       ['VA'],\n",
       "       ['MN'],\n",
       "       ['NY'],\n",
       "       ['IL'],\n",
       "       ['NC'],\n",
       "       ['GA'],\n",
       "       ['CA'],\n",
       "       ['MI'],\n",
       "       ['OR'],\n",
       "       ['CA'],\n",
       "       ['MD'],\n",
       "       ['UT'],\n",
       "       ['TX'],\n",
       "       ['TX'],\n",
       "       ['CA'],\n",
       "       ['CA'],\n",
       "       ['CA'],\n",
       "       ['CA'],\n",
       "       ['CA'],\n",
       "       ['CA'],\n",
       "       ['CA'],\n",
       "       ['CA'],\n",
       "       ['CA'],\n",
       "       ['CA'],\n",
       "       ['GA'],\n",
       "       ['WA'],\n",
       "       ['WA'],\n",
       "       ['WA'],\n",
       "       ['FL'],\n",
       "       ['FL'],\n",
       "       ['WI'],\n",
       "       ['TX'],\n",
       "       ['LA'],\n",
       "       ['IA'],\n",
       "       ['SD'],\n",
       "       ['IN'],\n",
       "       ['SC'],\n",
       "       ['WA'],\n",
       "       ['IL'],\n",
       "       ['MA'],\n",
       "       ['MO'],\n",
       "       ['OH'],\n",
       "       ['PA'],\n",
       "       ['VA'],\n",
       "       ['MN'],\n",
       "       ['UT'],\n",
       "       ['MO'],\n",
       "       ['MO'],\n",
       "       ['CA'],\n",
       "       ['SC'],\n",
       "       ['NY'],\n",
       "       ['FL'],\n",
       "       ['FL'],\n",
       "       ['TX'],\n",
       "       ['FL'],\n",
       "       ['OH'],\n",
       "       ['KS'],\n",
       "       ['NJ'],\n",
       "       ['AZ'],\n",
       "       ['OK'],\n",
       "       ['AL'],\n",
       "       ['TX'],\n",
       "       ['HI'],\n",
       "       ['NY'],\n",
       "       ['CA'],\n",
       "       ['TX'],\n",
       "       ['NJ'],\n",
       "       ['VA'],\n",
       "       ['CA'],\n",
       "       ['TX'],\n",
       "       ['WA'],\n",
       "       ['GA'],\n",
       "       ['DC'],\n",
       "       ['MD'],\n",
       "       ['DC'],\n",
       "       ['IA'],\n",
       "       ['NY'],\n",
       "       ['WI'],\n",
       "       ['WA'],\n",
       "       ['WV'],\n",
       "       ['KS'],\n",
       "       ['TX'],\n",
       "       ['PA'],\n",
       "       ['NC'],\n",
       "       ['VA'],\n",
       "       ['MA'],\n",
       "       ['WA'],\n",
       "       ['PA'],\n",
       "       ['CA'],\n",
       "       ['AZ'],\n",
       "       ['Aguadilla-Isabela, Puerto Rico M.S.A.'],\n",
       "       ['Arecibo, Puerto Rico M.S.A.'],\n",
       "       ['Guayama, Puerto Rico M.S.A.'],\n",
       "       ['Mayaguez, Puerto Rico M.S.A.'],\n",
       "       ['Ponce, Puerto Rico M.S.A.'],\n",
       "       ['San German, Puerto Rico M.S.A.'],\n",
       "       ['San Juan-Carolina-Caguas, Puerto Rico M.S.A.']], dtype=object)"
      ]
     },
     "execution_count": 6,
     "metadata": {},
     "output_type": "execute_result"
    }
   ],
   "source": [
    "y"
   ]
  },
  {
   "cell_type": "code",
   "execution_count": 7,
   "metadata": {},
   "outputs": [
    {
     "data": {
      "text/plain": [
       "2"
      ]
     },
     "execution_count": 7,
     "metadata": {},
     "output_type": "execute_result"
    }
   ],
   "source": [
    "y.ndim"
   ]
  },
  {
   "cell_type": "code",
   "execution_count": 8,
   "metadata": {},
   "outputs": [],
   "source": [
    "from sklearn.compose import ColumnTransformer\n",
    "from sklearn.preprocessing import OneHotEncoder\n",
    "one = OneHotEncoder()\n",
    "z = one.fit_transform(y[:,0:1]).toarray()\n",
    "y = np.delete(y,0,axis = 1)\n",
    "y = np.concatenate((z,y),axis = 1)"
   ]
  },
  {
   "cell_type": "code",
   "execution_count": 9,
   "metadata": {},
   "outputs": [
    {
     "data": {
      "text/plain": [
       "array([[0., 0., 0., ..., 0., 0., 0.],\n",
       "       [0., 0., 0., ..., 0., 0., 0.],\n",
       "       [0., 0., 0., ..., 0., 0., 0.],\n",
       "       ...,\n",
       "       [0., 0., 0., ..., 0., 0., 0.],\n",
       "       [0., 0., 0., ..., 0., 0., 0.],\n",
       "       [0., 0., 0., ..., 0., 0., 0.]])"
      ]
     },
     "execution_count": 9,
     "metadata": {},
     "output_type": "execute_result"
    }
   ],
   "source": [
    "z"
   ]
  },
  {
   "cell_type": "code",
   "execution_count": 10,
   "metadata": {},
   "outputs": [],
   "source": [
    "from sklearn.model_selection import train_test_split\n",
    "x_train,x_test,y_train,y_test = train_test_split(x,y,test_size=0.2,random_state=0)"
   ]
  },
  {
   "cell_type": "code",
   "execution_count": 11,
   "metadata": {},
   "outputs": [],
   "source": [
    "x_train = np.asarray(x_train).astype('float32')\n",
    "x_test = np.asarray(x_test).astype('float32')\n",
    "y_train = np.asarray(y_train).astype('float32')\n",
    "y_test = np.asarray(y_test).astype('float32')"
   ]
  },
  {
   "cell_type": "code",
   "execution_count": 12,
   "metadata": {},
   "outputs": [],
   "source": [
    "from sklearn.preprocessing import StandardScaler\n",
    "sc = StandardScaler()\n",
    "x_train = sc.fit_transform(x_train)\n",
    "x_test = sc.fit_transform(x_test)"
   ]
  },
  {
   "cell_type": "code",
   "execution_count": 13,
   "metadata": {},
   "outputs": [
    {
     "data": {
      "text/plain": [
       "(302, 58)"
      ]
     },
     "execution_count": 13,
     "metadata": {},
     "output_type": "execute_result"
    }
   ],
   "source": [
    "y_train.shape"
   ]
  },
  {
   "cell_type": "code",
   "execution_count": null,
   "metadata": {},
   "outputs": [],
   "source": [
    "from tensorflow.keras.models import Sequential\n",
    "from tensorflow.keras.layers import Dense\n"
   ]
  },
  {
   "cell_type": "code",
   "execution_count": null,
   "metadata": {},
   "outputs": [],
   "source": [
    "cat = Sequential()"
   ]
  },
  {
   "cell_type": "code",
   "execution_count": null,
   "metadata": {},
   "outputs": [],
   "source": [
    "cat.add(Dense(9,kernel_initializer = \"random_uniform\",activation =\"relu\"))"
   ]
  },
  {
   "cell_type": "code",
   "execution_count": null,
   "metadata": {},
   "outputs": [],
   "source": [
    "cat.add(Dense(18,kernel_initializer = \"random_uniform\",activation =\"relu\"))"
   ]
  },
  {
   "cell_type": "code",
   "execution_count": null,
   "metadata": {},
   "outputs": [],
   "source": [
    "cat.add(Dense(58,kernel_initializer = \"random_uniform\",activation =\"softmax\"))"
   ]
  },
  {
   "cell_type": "code",
   "execution_count": null,
   "metadata": {},
   "outputs": [],
   "source": [
    "cat.compile(\"adam\",\"categorical_crossentropy\",metrics = [\"accuracy\"])"
   ]
  },
  {
   "cell_type": "code",
   "execution_count": null,
   "metadata": {},
   "outputs": [],
   "source": [
    "cat.fit(x_train,y_train,batch_size = 32, epochs=50)"
   ]
  },
  {
   "cell_type": "code",
   "execution_count": null,
   "metadata": {},
   "outputs": [],
   "source": [
    "ypred = cat.predict(x_test)"
   ]
  },
  {
   "cell_type": "code",
   "execution_count": null,
   "metadata": {},
   "outputs": [],
   "source": [
    "d.head(1)"
   ]
  },
  {
   "cell_type": "code",
   "execution_count": null,
   "metadata": {},
   "outputs": [],
   "source": [
    "cat.predict_classes(sc.transform([[412.5,5.3,56.0,78.4,272.8,3609.0,852.0,2493.6,263.4]]))"
   ]
  },
  {
   "cell_type": "code",
   "execution_count": null,
   "metadata": {},
   "outputs": [],
   "source": []
  }
 ],
 "metadata": {
  "kernelspec": {
   "display_name": "Python 3",
   "language": "python",
   "name": "python3"
  },
  "language_info": {
   "codemirror_mode": {
    "name": "ipython",
    "version": 3
   },
   "file_extension": ".py",
   "mimetype": "text/x-python",
   "name": "python",
   "nbconvert_exporter": "python",
   "pygments_lexer": "ipython3",
   "version": "3.7.3"
  }
 },
 "nbformat": 4,
 "nbformat_minor": 5
}
