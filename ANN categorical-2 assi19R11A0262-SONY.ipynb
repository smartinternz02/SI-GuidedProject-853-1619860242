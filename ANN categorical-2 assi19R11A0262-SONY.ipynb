{
 "cells": [
  {
   "cell_type": "code",
   "execution_count": 89,
   "metadata": {},
   "outputs": [],
   "source": [
    "import pandas as pd\n",
    "import numpy as np"
   ]
  },
  {
   "cell_type": "code",
   "execution_count": 90,
   "metadata": {},
   "outputs": [],
   "source": [
    "d=pd.read_csv(r\"C:\\geethanjaliexternship\\abalone_data.csv\")"
   ]
  },
  {
   "cell_type": "code",
   "execution_count": 91,
   "metadata": {},
   "outputs": [
    {
     "data": {
      "text/html": [
       "<div>\n",
       "<style scoped>\n",
       "    .dataframe tbody tr th:only-of-type {\n",
       "        vertical-align: middle;\n",
       "    }\n",
       "\n",
       "    .dataframe tbody tr th {\n",
       "        vertical-align: top;\n",
       "    }\n",
       "\n",
       "    .dataframe thead th {\n",
       "        text-align: right;\n",
       "    }\n",
       "</style>\n",
       "<table border=\"1\" class=\"dataframe\">\n",
       "  <thead>\n",
       "    <tr style=\"text-align: right;\">\n",
       "      <th></th>\n",
       "      <th>column_a</th>\n",
       "      <th>column_b</th>\n",
       "      <th>column_c</th>\n",
       "      <th>column_d</th>\n",
       "      <th>column_e</th>\n",
       "      <th>column_f</th>\n",
       "      <th>column_g</th>\n",
       "      <th>column_h</th>\n",
       "      <th>column_i</th>\n",
       "    </tr>\n",
       "  </thead>\n",
       "  <tbody>\n",
       "    <tr>\n",
       "      <th>0</th>\n",
       "      <td>M</td>\n",
       "      <td>0.455</td>\n",
       "      <td>0.365</td>\n",
       "      <td>0.095</td>\n",
       "      <td>0.5140</td>\n",
       "      <td>0.2245</td>\n",
       "      <td>0.1010</td>\n",
       "      <td>0.150</td>\n",
       "      <td>15.0</td>\n",
       "    </tr>\n",
       "    <tr>\n",
       "      <th>1</th>\n",
       "      <td>M</td>\n",
       "      <td>0.350</td>\n",
       "      <td>0.265</td>\n",
       "      <td>0.090</td>\n",
       "      <td>0.2255</td>\n",
       "      <td>0.0995</td>\n",
       "      <td>0.0485</td>\n",
       "      <td>0.070</td>\n",
       "      <td>7.0</td>\n",
       "    </tr>\n",
       "    <tr>\n",
       "      <th>2</th>\n",
       "      <td>F</td>\n",
       "      <td>0.530</td>\n",
       "      <td>0.420</td>\n",
       "      <td>0.135</td>\n",
       "      <td>0.6770</td>\n",
       "      <td>0.2565</td>\n",
       "      <td>0.1415</td>\n",
       "      <td>0.210</td>\n",
       "      <td>9.0</td>\n",
       "    </tr>\n",
       "    <tr>\n",
       "      <th>3</th>\n",
       "      <td>M</td>\n",
       "      <td>0.440</td>\n",
       "      <td>0.365</td>\n",
       "      <td>0.125</td>\n",
       "      <td>0.5160</td>\n",
       "      <td>0.2155</td>\n",
       "      <td>0.1140</td>\n",
       "      <td>0.155</td>\n",
       "      <td>10.0</td>\n",
       "    </tr>\n",
       "    <tr>\n",
       "      <th>4</th>\n",
       "      <td>I</td>\n",
       "      <td>0.330</td>\n",
       "      <td>0.255</td>\n",
       "      <td>0.080</td>\n",
       "      <td>0.2050</td>\n",
       "      <td>0.0895</td>\n",
       "      <td>0.0395</td>\n",
       "      <td>0.055</td>\n",
       "      <td>7.0</td>\n",
       "    </tr>\n",
       "  </tbody>\n",
       "</table>\n",
       "</div>"
      ],
      "text/plain": [
       "  column_a  column_b  column_c  column_d  column_e  column_f  column_g  \\\n",
       "0        M     0.455     0.365     0.095    0.5140    0.2245    0.1010   \n",
       "1        M     0.350     0.265     0.090    0.2255    0.0995    0.0485   \n",
       "2        F     0.530     0.420     0.135    0.6770    0.2565    0.1415   \n",
       "3        M     0.440     0.365     0.125    0.5160    0.2155    0.1140   \n",
       "4        I     0.330     0.255     0.080    0.2050    0.0895    0.0395   \n",
       "\n",
       "   column_h  column_i  \n",
       "0     0.150      15.0  \n",
       "1     0.070       7.0  \n",
       "2     0.210       9.0  \n",
       "3     0.155      10.0  \n",
       "4     0.055       7.0  "
      ]
     },
     "execution_count": 91,
     "metadata": {},
     "output_type": "execute_result"
    }
   ],
   "source": [
    "d.head()"
   ]
  },
  {
   "cell_type": "code",
   "execution_count": 92,
   "metadata": {},
   "outputs": [
    {
     "data": {
      "text/plain": [
       "array(['M', 'F', 'I'], dtype=object)"
      ]
     },
     "execution_count": 92,
     "metadata": {},
     "output_type": "execute_result"
    }
   ],
   "source": [
    "d[\"column_a\"].unique()"
   ]
  },
  {
   "cell_type": "code",
   "execution_count": 93,
   "metadata": {},
   "outputs": [
    {
     "data": {
      "text/plain": [
       "column_a    0\n",
       "column_b    0\n",
       "column_c    0\n",
       "column_d    0\n",
       "column_e    1\n",
       "column_f    1\n",
       "column_g    1\n",
       "column_h    1\n",
       "column_i    1\n",
       "dtype: int64"
      ]
     },
     "execution_count": 93,
     "metadata": {},
     "output_type": "execute_result"
    }
   ],
   "source": [
    "d.isnull().sum()"
   ]
  },
  {
   "cell_type": "code",
   "execution_count": 94,
   "metadata": {},
   "outputs": [],
   "source": [
    "d[\"column_e\"].fillna(d[\"column_e\"].mean(),inplace=True)"
   ]
  },
  {
   "cell_type": "code",
   "execution_count": 95,
   "metadata": {},
   "outputs": [],
   "source": [
    "d[\"column_f\"].fillna(d[\"column_f\"].mean(),inplace=True)"
   ]
  },
  {
   "cell_type": "code",
   "execution_count": 96,
   "metadata": {},
   "outputs": [],
   "source": [
    "d[\"column_g\"].fillna(d[\"column_g\"].mean(),inplace=True)"
   ]
  },
  {
   "cell_type": "code",
   "execution_count": 97,
   "metadata": {},
   "outputs": [],
   "source": [
    "d[\"column_h\"].fillna(d[\"column_h\"].mean(),inplace=True)"
   ]
  },
  {
   "cell_type": "code",
   "execution_count": 98,
   "metadata": {},
   "outputs": [],
   "source": [
    "d[\"column_i\"].fillna(d[\"column_i\"].mean(),inplace=True)"
   ]
  },
  {
   "cell_type": "code",
   "execution_count": 99,
   "metadata": {},
   "outputs": [
    {
     "data": {
      "text/plain": [
       "column_a    0\n",
       "column_b    0\n",
       "column_c    0\n",
       "column_d    0\n",
       "column_e    0\n",
       "column_f    0\n",
       "column_g    0\n",
       "column_h    0\n",
       "column_i    0\n",
       "dtype: int64"
      ]
     },
     "execution_count": 99,
     "metadata": {},
     "output_type": "execute_result"
    }
   ],
   "source": [
    "d.isnull().sum()"
   ]
  },
  {
   "cell_type": "code",
   "execution_count": 130,
   "metadata": {},
   "outputs": [],
   "source": [
    "x=d.iloc[:,1:9].values\n",
    "y=d.iloc[:,0:1].values"
   ]
  },
  {
   "cell_type": "code",
   "execution_count": 131,
   "metadata": {},
   "outputs": [
    {
     "data": {
      "text/plain": [
       "array([[ 0.455     ,  0.365     ,  0.095     , ...,  0.101     ,\n",
       "         0.15      , 15.        ],\n",
       "       [ 0.35      ,  0.265     ,  0.09      , ...,  0.0485    ,\n",
       "         0.07      ,  7.        ],\n",
       "       [ 0.53      ,  0.42      ,  0.135     , ...,  0.1415    ,\n",
       "         0.21      ,  9.        ],\n",
       "       ...,\n",
       "       [ 0.32      ,  0.25      ,  0.08      , ...,  0.034     ,\n",
       "         0.06      ,  9.        ],\n",
       "       [ 0.43      ,  0.34      ,  0.125     , ...,  0.061     ,\n",
       "         0.146     , 14.        ],\n",
       "       [ 0.565     ,  0.45      ,  0.        , ...,  0.1791053 ,\n",
       "         0.23773037,  9.9376947 ]])"
      ]
     },
     "execution_count": 131,
     "metadata": {},
     "output_type": "execute_result"
    }
   ],
   "source": [
    "x"
   ]
  },
  {
   "cell_type": "code",
   "execution_count": 132,
   "metadata": {},
   "outputs": [
    {
     "data": {
      "text/plain": [
       "array([['M'],\n",
       "       ['M'],\n",
       "       ['F'],\n",
       "       ...,\n",
       "       ['I'],\n",
       "       ['I'],\n",
       "       ['M']], dtype=object)"
      ]
     },
     "execution_count": 132,
     "metadata": {},
     "output_type": "execute_result"
    }
   ],
   "source": [
    "y"
   ]
  },
  {
   "cell_type": "code",
   "execution_count": 133,
   "metadata": {},
   "outputs": [],
   "source": [
    "from sklearn.compose import ColumnTransformer\n",
    "from sklearn.preprocessing import OneHotEncoder\n",
    "one = OneHotEncoder()\n",
    "z = one.fit_transform(y[:,0:1]).toarray()\n",
    "y = np.delete(y,0,axis = 1)\n",
    "y = np.concatenate((z,y),axis = 1)"
   ]
  },
  {
   "cell_type": "code",
   "execution_count": 134,
   "metadata": {},
   "outputs": [
    {
     "name": "stdout",
     "output_type": "stream",
     "text": [
      "[[0.0 0.0 1.0]\n",
      " [0.0 0.0 1.0]\n",
      " [1.0 0.0 0.0]\n",
      " ...\n",
      " [0.0 1.0 0.0]\n",
      " [0.0 1.0 0.0]\n",
      " [0.0 0.0 1.0]]\n"
     ]
    }
   ],
   "source": [
    "print(y)"
   ]
  },
  {
   "cell_type": "code",
   "execution_count": 135,
   "metadata": {},
   "outputs": [
    {
     "data": {
      "text/plain": [
       "(3211, 3)"
      ]
     },
     "execution_count": 135,
     "metadata": {},
     "output_type": "execute_result"
    }
   ],
   "source": [
    "y.shape"
   ]
  },
  {
   "cell_type": "code",
   "execution_count": 136,
   "metadata": {},
   "outputs": [],
   "source": [
    "from sklearn.model_selection import train_test_split\n",
    "x_train,x_test,y_train,y_test = train_test_split(x,y,test_size=0.2,random_state=0)"
   ]
  },
  {
   "cell_type": "code",
   "execution_count": 137,
   "metadata": {},
   "outputs": [],
   "source": [
    "x_train = np.asarray(x_train).astype('float32')\n",
    "x_test = np.asarray(x_test).astype('float32')\n",
    "y_train = np.asarray(y_train).astype('float32')\n",
    "y_test = np.asarray(y_test).astype('float32')"
   ]
  },
  {
   "cell_type": "code",
   "execution_count": 138,
   "metadata": {},
   "outputs": [],
   "source": [
    "from sklearn.preprocessing import StandardScaler\n",
    "sc = StandardScaler()\n",
    "x_train = sc.fit_transform(x_train)\n",
    "x_test = sc.fit_transform(x_test)"
   ]
  },
  {
   "cell_type": "code",
   "execution_count": 139,
   "metadata": {},
   "outputs": [
    {
     "data": {
      "text/plain": [
       "(2568, 8)"
      ]
     },
     "execution_count": 139,
     "metadata": {},
     "output_type": "execute_result"
    }
   ],
   "source": [
    "x_train.shape"
   ]
  },
  {
   "cell_type": "code",
   "execution_count": 140,
   "metadata": {},
   "outputs": [],
   "source": [
    "from tensorflow.keras.models import Sequential\n",
    "from tensorflow.keras.layers import Dense"
   ]
  },
  {
   "cell_type": "code",
   "execution_count": 141,
   "metadata": {},
   "outputs": [],
   "source": [
    "cat = Sequential()"
   ]
  },
  {
   "cell_type": "code",
   "execution_count": 142,
   "metadata": {},
   "outputs": [],
   "source": [
    "cat.add(Dense(7,kernel_initializer = \"random_uniform\",activation =\"relu\"))"
   ]
  },
  {
   "cell_type": "code",
   "execution_count": 143,
   "metadata": {},
   "outputs": [],
   "source": [
    "cat.add(Dense(14,kernel_initializer = \"random_uniform\",activation =\"relu\"))"
   ]
  },
  {
   "cell_type": "code",
   "execution_count": 144,
   "metadata": {},
   "outputs": [],
   "source": [
    "cat.add(Dense(3,kernel_initializer = \"random_uniform\",activation =\"softmax\"))"
   ]
  },
  {
   "cell_type": "code",
   "execution_count": 145,
   "metadata": {},
   "outputs": [],
   "source": [
    "cat.compile(\"adam\",\"categorical_crossentropy\",metrics = [\"accuracy\"])"
   ]
  },
  {
   "cell_type": "code",
   "execution_count": 146,
   "metadata": {},
   "outputs": [
    {
     "name": "stdout",
     "output_type": "stream",
     "text": [
      "Epoch 1/100\n",
      "112/112 [==============================] - 1s 2ms/step - loss: 1.0855 - accuracy: 0.4513\n",
      "Epoch 2/100\n",
      "112/112 [==============================] - 0s 2ms/step - loss: 0.9005 - accuracy: 0.5254\n",
      "Epoch 3/100\n",
      "112/112 [==============================] - 0s 2ms/step - loss: 0.8764 - accuracy: 0.5457\n",
      "Epoch 4/100\n",
      "112/112 [==============================] - 0s 1ms/step - loss: 0.8740 - accuracy: 0.5352\n",
      "Epoch 5/100\n",
      "112/112 [==============================] - 0s 2ms/step - loss: 0.8747 - accuracy: 0.5348\n",
      "Epoch 6/100\n",
      "112/112 [==============================] - 0s 2ms/step - loss: 0.8772 - accuracy: 0.5399\n",
      "Epoch 7/100\n",
      "112/112 [==============================] - 0s 2ms/step - loss: 0.8649 - accuracy: 0.5391\n",
      "Epoch 8/100\n",
      "112/112 [==============================] - 0s 2ms/step - loss: 0.8634 - accuracy: 0.5452\n",
      "Epoch 9/100\n",
      "112/112 [==============================] - 0s 2ms/step - loss: 0.8885 - accuracy: 0.5279\n",
      "Epoch 10/100\n",
      "112/112 [==============================] - 0s 2ms/step - loss: 0.8814 - accuracy: 0.5193\n",
      "Epoch 11/100\n",
      "112/112 [==============================] - 0s 2ms/step - loss: 0.8614 - accuracy: 0.5345\n",
      "Epoch 12/100\n",
      "112/112 [==============================] - 0s 4ms/step - loss: 0.8680 - accuracy: 0.5468\n",
      "Epoch 13/100\n",
      "112/112 [==============================] - 0s 3ms/step - loss: 0.8576 - accuracy: 0.5427\n",
      "Epoch 14/100\n",
      "112/112 [==============================] - 0s 3ms/step - loss: 0.8495 - accuracy: 0.5483\n",
      "Epoch 15/100\n",
      "112/112 [==============================] - 0s 2ms/step - loss: 0.8798 - accuracy: 0.5358\n",
      "Epoch 16/100\n",
      "112/112 [==============================] - 0s 2ms/step - loss: 0.8673 - accuracy: 0.5273\n",
      "Epoch 17/100\n",
      "112/112 [==============================] - 0s 2ms/step - loss: 0.8618 - accuracy: 0.5403\n",
      "Epoch 18/100\n",
      "112/112 [==============================] - 0s 2ms/step - loss: 0.8476 - accuracy: 0.5415\n",
      "Epoch 19/100\n",
      "112/112 [==============================] - 0s 2ms/step - loss: 0.8369 - accuracy: 0.5539\n",
      "Epoch 20/100\n",
      "112/112 [==============================] - 0s 4ms/step - loss: 0.8380 - accuracy: 0.5417\n",
      "Epoch 21/100\n",
      "112/112 [==============================] - 0s 3ms/step - loss: 0.8444 - accuracy: 0.5596\n",
      "Epoch 22/100\n",
      "112/112 [==============================] - 0s 2ms/step - loss: 0.8590 - accuracy: 0.5398\n",
      "Epoch 23/100\n",
      "112/112 [==============================] - 0s 4ms/step - loss: 0.8570 - accuracy: 0.5474\n",
      "Epoch 24/100\n",
      "112/112 [==============================] - 0s 2ms/step - loss: 0.8367 - accuracy: 0.5490\n",
      "Epoch 25/100\n",
      "112/112 [==============================] - 0s 2ms/step - loss: 0.8534 - accuracy: 0.5592\n",
      "Epoch 26/100\n",
      "112/112 [==============================] - 0s 2ms/step - loss: 0.8527 - accuracy: 0.5385\n",
      "Epoch 27/100\n",
      "112/112 [==============================] - 0s 2ms/step - loss: 0.8506 - accuracy: 0.5434\n",
      "Epoch 28/100\n",
      "112/112 [==============================] - 0s 3ms/step - loss: 0.8429 - accuracy: 0.5500\n",
      "Epoch 29/100\n",
      "112/112 [==============================] - 0s 2ms/step - loss: 0.8508 - accuracy: 0.5344\n",
      "Epoch 30/100\n",
      "112/112 [==============================] - 0s 2ms/step - loss: 0.8386 - accuracy: 0.5563\n",
      "Epoch 31/100\n",
      "112/112 [==============================] - 0s 2ms/step - loss: 0.8368 - accuracy: 0.5526\n",
      "Epoch 32/100\n",
      "112/112 [==============================] - 0s 2ms/step - loss: 0.8093 - accuracy: 0.5708\n",
      "Epoch 33/100\n",
      "112/112 [==============================] - 0s 2ms/step - loss: 0.8586 - accuracy: 0.5453\n",
      "Epoch 34/100\n",
      "112/112 [==============================] - 0s 2ms/step - loss: 0.8276 - accuracy: 0.5566\n",
      "Epoch 35/100\n",
      "112/112 [==============================] - 0s 3ms/step - loss: 0.8572 - accuracy: 0.5510\n",
      "Epoch 36/100\n",
      "112/112 [==============================] - 0s 3ms/step - loss: 0.8441 - accuracy: 0.5525\n",
      "Epoch 37/100\n",
      "112/112 [==============================] - 0s 4ms/step - loss: 0.8540 - accuracy: 0.5454\n",
      "Epoch 38/100\n",
      "112/112 [==============================] - 0s 3ms/step - loss: 0.8469 - accuracy: 0.5461\n",
      "Epoch 39/100\n",
      "112/112 [==============================] - 0s 4ms/step - loss: 0.8697 - accuracy: 0.5406\n",
      "Epoch 40/100\n",
      "112/112 [==============================] - 0s 3ms/step - loss: 0.8266 - accuracy: 0.5648\n",
      "Epoch 41/100\n",
      "112/112 [==============================] - 0s 3ms/step - loss: 0.8409 - accuracy: 0.5441\n",
      "Epoch 42/100\n",
      "112/112 [==============================] - 0s 2ms/step - loss: 0.8479 - accuracy: 0.5489\n",
      "Epoch 43/100\n",
      "112/112 [==============================] - 0s 2ms/step - loss: 0.8375 - accuracy: 0.5646\n",
      "Epoch 44/100\n",
      "112/112 [==============================] - 0s 2ms/step - loss: 0.8228 - accuracy: 0.5667\n",
      "Epoch 45/100\n",
      "112/112 [==============================] - 0s 2ms/step - loss: 0.8552 - accuracy: 0.5533\n",
      "Epoch 46/100\n",
      "112/112 [==============================] - 0s 2ms/step - loss: 0.8237 - accuracy: 0.5685\n",
      "Epoch 47/100\n",
      "112/112 [==============================] - 0s 2ms/step - loss: 0.8302 - accuracy: 0.5482\n",
      "Epoch 48/100\n",
      "112/112 [==============================] - 0s 2ms/step - loss: 0.8234 - accuracy: 0.5608\n",
      "Epoch 49/100\n",
      "112/112 [==============================] - 0s 2ms/step - loss: 0.8221 - accuracy: 0.5640\n",
      "Epoch 50/100\n",
      "112/112 [==============================] - 0s 2ms/step - loss: 0.8344 - accuracy: 0.5608\n",
      "Epoch 51/100\n",
      "112/112 [==============================] - 0s 2ms/step - loss: 0.8349 - accuracy: 0.5528\n",
      "Epoch 52/100\n",
      "112/112 [==============================] - 0s 3ms/step - loss: 0.8403 - accuracy: 0.5552\n",
      "Epoch 53/100\n",
      "112/112 [==============================] - 0s 3ms/step - loss: 0.8323 - accuracy: 0.5531\n",
      "Epoch 54/100\n",
      "112/112 [==============================] - 0s 3ms/step - loss: 0.8486 - accuracy: 0.5554\n",
      "Epoch 55/100\n",
      "112/112 [==============================] - 0s 3ms/step - loss: 0.8341 - accuracy: 0.5646\n",
      "Epoch 56/100\n",
      "112/112 [==============================] - 0s 2ms/step - loss: 0.8431 - accuracy: 0.5623\n",
      "Epoch 57/100\n",
      "112/112 [==============================] - 0s 2ms/step - loss: 0.8308 - accuracy: 0.5597\n",
      "Epoch 58/100\n",
      "112/112 [==============================] - 0s 2ms/step - loss: 0.8431 - accuracy: 0.5553\n",
      "Epoch 59/100\n",
      "112/112 [==============================] - 0s 2ms/step - loss: 0.8339 - accuracy: 0.5589\n",
      "Epoch 60/100\n",
      "112/112 [==============================] - 0s 4ms/step - loss: 0.8433 - accuracy: 0.5446\n",
      "Epoch 61/100\n",
      "112/112 [==============================] - 0s 3ms/step - loss: 0.8380 - accuracy: 0.5529\n",
      "Epoch 62/100\n",
      "112/112 [==============================] - 0s 2ms/step - loss: 0.8354 - accuracy: 0.5607\n",
      "Epoch 63/100\n",
      "112/112 [==============================] - 0s 3ms/step - loss: 0.8526 - accuracy: 0.5551\n",
      "Epoch 64/100\n",
      "112/112 [==============================] - 0s 2ms/step - loss: 0.8517 - accuracy: 0.5415\n",
      "Epoch 65/100\n",
      "112/112 [==============================] - 0s 2ms/step - loss: 0.8338 - accuracy: 0.5575\n",
      "Epoch 66/100\n",
      "112/112 [==============================] - 0s 2ms/step - loss: 0.8354 - accuracy: 0.5526\n",
      "Epoch 67/100\n",
      "112/112 [==============================] - 0s 2ms/step - loss: 0.8377 - accuracy: 0.5668\n",
      "Epoch 68/100\n",
      "112/112 [==============================] - 0s 2ms/step - loss: 0.8430 - accuracy: 0.5505\n",
      "Epoch 69/100\n",
      "112/112 [==============================] - 0s 2ms/step - loss: 0.8321 - accuracy: 0.5575\n",
      "Epoch 70/100\n",
      "112/112 [==============================] - 0s 2ms/step - loss: 0.8381 - accuracy: 0.5555\n",
      "Epoch 71/100\n",
      "112/112 [==============================] - 0s 2ms/step - loss: 0.8347 - accuracy: 0.5639\n",
      "Epoch 72/100\n",
      "112/112 [==============================] - 0s 2ms/step - loss: 0.8376 - accuracy: 0.5676\n",
      "Epoch 73/100\n",
      "112/112 [==============================] - 0s 2ms/step - loss: 0.8342 - accuracy: 0.5643\n",
      "Epoch 74/100\n",
      "112/112 [==============================] - 0s 2ms/step - loss: 0.8355 - accuracy: 0.5536\n",
      "Epoch 75/100\n",
      "112/112 [==============================] - 0s 2ms/step - loss: 0.8357 - accuracy: 0.5521\n",
      "Epoch 76/100\n",
      "112/112 [==============================] - 0s 2ms/step - loss: 0.8366 - accuracy: 0.5677\n",
      "Epoch 77/100\n",
      "112/112 [==============================] - 0s 3ms/step - loss: 0.8466 - accuracy: 0.5559\n",
      "Epoch 78/100\n",
      "112/112 [==============================] - 0s 2ms/step - loss: 0.8483 - accuracy: 0.5524\n",
      "Epoch 79/100\n",
      "112/112 [==============================] - 0s 2ms/step - loss: 0.8282 - accuracy: 0.5573\n",
      "Epoch 80/100\n",
      "112/112 [==============================] - 0s 2ms/step - loss: 0.8411 - accuracy: 0.5476\n",
      "Epoch 81/100\n"
     ]
    },
    {
     "name": "stdout",
     "output_type": "stream",
     "text": [
      "112/112 [==============================] - 0s 2ms/step - loss: 0.8335 - accuracy: 0.5647\n",
      "Epoch 82/100\n",
      "112/112 [==============================] - 0s 1ms/step - loss: 0.8231 - accuracy: 0.5677\n",
      "Epoch 83/100\n",
      "112/112 [==============================] - 0s 1ms/step - loss: 0.8413 - accuracy: 0.5650\n",
      "Epoch 84/100\n",
      "112/112 [==============================] - 0s 1ms/step - loss: 0.8467 - accuracy: 0.5463\n",
      "Epoch 85/100\n",
      "112/112 [==============================] - 0s 1ms/step - loss: 0.8437 - accuracy: 0.5526\n",
      "Epoch 86/100\n",
      "112/112 [==============================] - 0s 1ms/step - loss: 0.8497 - accuracy: 0.5562\n",
      "Epoch 87/100\n",
      "112/112 [==============================] - 0s 2ms/step - loss: 0.8382 - accuracy: 0.5596\n",
      "Epoch 88/100\n",
      "112/112 [==============================] - 0s 1ms/step - loss: 0.8225 - accuracy: 0.5676\n",
      "Epoch 89/100\n",
      "112/112 [==============================] - 0s 2ms/step - loss: 0.8314 - accuracy: 0.5763\n",
      "Epoch 90/100\n",
      "112/112 [==============================] - 0s 1ms/step - loss: 0.8169 - accuracy: 0.5685\n",
      "Epoch 91/100\n",
      "112/112 [==============================] - 0s 2ms/step - loss: 0.8412 - accuracy: 0.5600\n",
      "Epoch 92/100\n",
      "112/112 [==============================] - 0s 2ms/step - loss: 0.8508 - accuracy: 0.5470\n",
      "Epoch 93/100\n",
      "112/112 [==============================] - 0s 2ms/step - loss: 0.8453 - accuracy: 0.5596\n",
      "Epoch 94/100\n",
      "112/112 [==============================] - 0s 2ms/step - loss: 0.8477 - accuracy: 0.5468\n",
      "Epoch 95/100\n",
      "112/112 [==============================] - 0s 2ms/step - loss: 0.8281 - accuracy: 0.5552\n",
      "Epoch 96/100\n",
      "112/112 [==============================] - 0s 1ms/step - loss: 0.8248 - accuracy: 0.5794\n",
      "Epoch 97/100\n",
      "112/112 [==============================] - 0s 2ms/step - loss: 0.8466 - accuracy: 0.5377\n",
      "Epoch 98/100\n",
      "112/112 [==============================] - 0s 2ms/step - loss: 0.8111 - accuracy: 0.5638\n",
      "Epoch 99/100\n",
      "112/112 [==============================] - 0s 2ms/step - loss: 0.8293 - accuracy: 0.5600\n",
      "Epoch 100/100\n",
      "112/112 [==============================] - 0s 2ms/step - loss: 0.8257 - accuracy: 0.5597\n"
     ]
    },
    {
     "data": {
      "text/plain": [
       "<tensorflow.python.keras.callbacks.History at 0x26cf3efa5f8>"
      ]
     },
     "execution_count": 146,
     "metadata": {},
     "output_type": "execute_result"
    }
   ],
   "source": [
    "cat.fit(x_train,y_train,batch_size = 23, epochs=100)"
   ]
  },
  {
   "cell_type": "code",
   "execution_count": 147,
   "metadata": {},
   "outputs": [
    {
     "data": {
      "text/plain": [
       "(2568, 8)"
      ]
     },
     "execution_count": 147,
     "metadata": {},
     "output_type": "execute_result"
    }
   ],
   "source": [
    "x_train.shape"
   ]
  },
  {
   "cell_type": "code",
   "execution_count": 148,
   "metadata": {},
   "outputs": [
    {
     "data": {
      "text/plain": [
       "(2568, 3)"
      ]
     },
     "execution_count": 148,
     "metadata": {},
     "output_type": "execute_result"
    }
   ],
   "source": [
    "y_train.shape"
   ]
  },
  {
   "cell_type": "code",
   "execution_count": 149,
   "metadata": {},
   "outputs": [],
   "source": [
    "ypred = cat.predict(x_test)"
   ]
  },
  {
   "cell_type": "code",
   "execution_count": 150,
   "metadata": {},
   "outputs": [
    {
     "data": {
      "text/plain": [
       "array([[0.48541334, 0.0115963 , 0.50299037],\n",
       "       [0.02994487, 0.883657  , 0.0863982 ],\n",
       "       [0.4643214 , 0.06216912, 0.4735095 ],\n",
       "       ...,\n",
       "       [0.35016248, 0.25207138, 0.39776614],\n",
       "       [0.21559533, 0.46783933, 0.3165654 ],\n",
       "       [0.30007544, 0.26819453, 0.43173003]], dtype=float32)"
      ]
     },
     "execution_count": 150,
     "metadata": {},
     "output_type": "execute_result"
    }
   ],
   "source": [
    "ypred"
   ]
  },
  {
   "cell_type": "raw",
   "metadata": {},
   "source": [
    "i-0,f-1,m-2"
   ]
  },
  {
   "cell_type": "code",
   "execution_count": 151,
   "metadata": {},
   "outputs": [
    {
     "data": {
      "text/plain": [
       "array([0.4643214 , 0.06216912, 0.4735095 ], dtype=float32)"
      ]
     },
     "execution_count": 151,
     "metadata": {},
     "output_type": "execute_result"
    }
   ],
   "source": [
    "ypred[2]"
   ]
  },
  {
   "cell_type": "code",
   "execution_count": 152,
   "metadata": {},
   "outputs": [
    {
     "data": {
      "text/plain": [
       "array([1., 0., 0.], dtype=float32)"
      ]
     },
     "execution_count": 152,
     "metadata": {},
     "output_type": "execute_result"
    }
   ],
   "source": [
    "y_test[2]"
   ]
  },
  {
   "cell_type": "code",
   "execution_count": 153,
   "metadata": {},
   "outputs": [
    {
     "data": {
      "text/html": [
       "<div>\n",
       "<style scoped>\n",
       "    .dataframe tbody tr th:only-of-type {\n",
       "        vertical-align: middle;\n",
       "    }\n",
       "\n",
       "    .dataframe tbody tr th {\n",
       "        vertical-align: top;\n",
       "    }\n",
       "\n",
       "    .dataframe thead th {\n",
       "        text-align: right;\n",
       "    }\n",
       "</style>\n",
       "<table border=\"1\" class=\"dataframe\">\n",
       "  <thead>\n",
       "    <tr style=\"text-align: right;\">\n",
       "      <th></th>\n",
       "      <th>column_a</th>\n",
       "      <th>column_b</th>\n",
       "      <th>column_c</th>\n",
       "      <th>column_d</th>\n",
       "      <th>column_e</th>\n",
       "      <th>column_f</th>\n",
       "      <th>column_g</th>\n",
       "      <th>column_h</th>\n",
       "      <th>column_i</th>\n",
       "    </tr>\n",
       "  </thead>\n",
       "  <tbody>\n",
       "    <tr>\n",
       "      <th>0</th>\n",
       "      <td>M</td>\n",
       "      <td>0.455</td>\n",
       "      <td>0.365</td>\n",
       "      <td>0.095</td>\n",
       "      <td>0.5140</td>\n",
       "      <td>0.2245</td>\n",
       "      <td>0.1010</td>\n",
       "      <td>0.150</td>\n",
       "      <td>15.0</td>\n",
       "    </tr>\n",
       "    <tr>\n",
       "      <th>1</th>\n",
       "      <td>M</td>\n",
       "      <td>0.350</td>\n",
       "      <td>0.265</td>\n",
       "      <td>0.090</td>\n",
       "      <td>0.2255</td>\n",
       "      <td>0.0995</td>\n",
       "      <td>0.0485</td>\n",
       "      <td>0.070</td>\n",
       "      <td>7.0</td>\n",
       "    </tr>\n",
       "    <tr>\n",
       "      <th>2</th>\n",
       "      <td>F</td>\n",
       "      <td>0.530</td>\n",
       "      <td>0.420</td>\n",
       "      <td>0.135</td>\n",
       "      <td>0.6770</td>\n",
       "      <td>0.2565</td>\n",
       "      <td>0.1415</td>\n",
       "      <td>0.210</td>\n",
       "      <td>9.0</td>\n",
       "    </tr>\n",
       "    <tr>\n",
       "      <th>3</th>\n",
       "      <td>M</td>\n",
       "      <td>0.440</td>\n",
       "      <td>0.365</td>\n",
       "      <td>0.125</td>\n",
       "      <td>0.5160</td>\n",
       "      <td>0.2155</td>\n",
       "      <td>0.1140</td>\n",
       "      <td>0.155</td>\n",
       "      <td>10.0</td>\n",
       "    </tr>\n",
       "    <tr>\n",
       "      <th>4</th>\n",
       "      <td>I</td>\n",
       "      <td>0.330</td>\n",
       "      <td>0.255</td>\n",
       "      <td>0.080</td>\n",
       "      <td>0.2050</td>\n",
       "      <td>0.0895</td>\n",
       "      <td>0.0395</td>\n",
       "      <td>0.055</td>\n",
       "      <td>7.0</td>\n",
       "    </tr>\n",
       "  </tbody>\n",
       "</table>\n",
       "</div>"
      ],
      "text/plain": [
       "  column_a  column_b  column_c  column_d  column_e  column_f  column_g  \\\n",
       "0        M     0.455     0.365     0.095    0.5140    0.2245    0.1010   \n",
       "1        M     0.350     0.265     0.090    0.2255    0.0995    0.0485   \n",
       "2        F     0.530     0.420     0.135    0.6770    0.2565    0.1415   \n",
       "3        M     0.440     0.365     0.125    0.5160    0.2155    0.1140   \n",
       "4        I     0.330     0.255     0.080    0.2050    0.0895    0.0395   \n",
       "\n",
       "   column_h  column_i  \n",
       "0     0.150      15.0  \n",
       "1     0.070       7.0  \n",
       "2     0.210       9.0  \n",
       "3     0.155      10.0  \n",
       "4     0.055       7.0  "
      ]
     },
     "execution_count": 153,
     "metadata": {},
     "output_type": "execute_result"
    }
   ],
   "source": [
    "d.head()"
   ]
  },
  {
   "cell_type": "code",
   "execution_count": 155,
   "metadata": {},
   "outputs": [
    {
     "name": "stderr",
     "output_type": "stream",
     "text": [
      "C:\\Users\\ssc\\Anaconda3\\lib\\site-packages\\tensorflow\\python\\keras\\engine\\sequential.py:450: UserWarning: `model.predict_classes()` is deprecated and will be removed after 2021-01-01. Please use instead:* `np.argmax(model.predict(x), axis=-1)`,   if your model does multi-class classification   (e.g. if it uses a `softmax` last-layer activation).* `(model.predict(x) > 0.5).astype(\"int32\")`,   if your model does binary classification   (e.g. if it uses a `sigmoid` last-layer activation).\n",
      "  warnings.warn('`model.predict_classes()` is deprecated and '\n"
     ]
    },
    {
     "data": {
      "text/plain": [
       "array([0], dtype=int64)"
      ]
     },
     "execution_count": 155,
     "metadata": {},
     "output_type": "execute_result"
    }
   ],
   "source": [
    "cat.predict_classes(sc.transform([[0.4555,0.095,0.5140,0.2245,0.2560,0.1010,0.150,15.0]]))"
   ]
  },
  {
   "cell_type": "code",
   "execution_count": null,
   "metadata": {},
   "outputs": [],
   "source": []
  },
  {
   "cell_type": "code",
   "execution_count": null,
   "metadata": {},
   "outputs": [],
   "source": []
  }
 ],
 "metadata": {
  "kernelspec": {
   "display_name": "Python 3",
   "language": "python",
   "name": "python3"
  },
  "language_info": {
   "codemirror_mode": {
    "name": "ipython",
    "version": 3
   },
   "file_extension": ".py",
   "mimetype": "text/x-python",
   "name": "python",
   "nbconvert_exporter": "python",
   "pygments_lexer": "ipython3",
   "version": "3.7.3"
  }
 },
 "nbformat": 4,
 "nbformat_minor": 2
}
